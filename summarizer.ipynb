{
 "cells": [
  {
   "cell_type": "code",
   "execution_count": 67,
   "metadata": {},
   "outputs": [],
   "source": [
    "import openai\n",
    "from youtube_transcript_api import YouTubeTranscriptApi, NoTranscriptFound\n",
    "from pytube import Playlist\n",
    "from collections import defaultdict\n",
    "import re\n",
    "from transformers import GPT2Tokenizer\n",
    "from tqdm import tqdm"
   ]
  },
  {
   "cell_type": "code",
   "execution_count": 103,
   "metadata": {},
   "outputs": [],
   "source": [
    "openai.api_key = \"\""
   ]
  },
  {
   "cell_type": "markdown",
   "metadata": {},
   "source": [
    "# 1. Get Video URLs"
   ]
  },
  {
   "cell_type": "code",
   "execution_count": 27,
   "metadata": {},
   "outputs": [],
   "source": [
    "# Definition\n",
    "def get_video_urls(playlist_url):\n",
    "    playlist = Playlist(playlist_url)\n",
    "    playlist._video_regex = re.compile(r\"\\\"url\\\":\\\"(/watch\\?v=[\\w-]*)\")\n",
    "\n",
    "    return [video.watch_url for video in playlist.videos]"
   ]
  },
  {
   "cell_type": "code",
   "execution_count": 26,
   "metadata": {},
   "outputs": [],
   "source": [
    "# Usage\n",
    "playlist_url = \"https://www.youtube.com/playlist?list=PLc38fcMFcV_s7Lf6xbeRfWYRt7-Vmi_X9\"\n",
    "playlist = get_video_urls(playlist_url)"
   ]
  },
  {
   "cell_type": "code",
   "execution_count": 16,
   "metadata": {},
   "outputs": [
    {
     "name": "stdout",
     "output_type": "stream",
     "text": [
      "Nr. of Videos: 130\n",
      "First Video https://youtube.com/watch?v=9gf2MT-IOsg\n"
     ]
    }
   ],
   "source": [
    "# Verification\n",
    "print(\"Nr. of Videos: \" + str(len(playlist)))\n",
    "print(\"First Video \" + playlist[0])"
   ]
  },
  {
   "cell_type": "markdown",
   "metadata": {},
   "source": [
    "# 2. Get Video Transcripts"
   ]
  },
  {
   "cell_type": "code",
   "execution_count": 75,
   "metadata": {},
   "outputs": [],
   "source": [
    "def get_transcripts(video_urls):\n",
    "    transcripts = []\n",
    "    failed_videos = []\n",
    "    for video_url in tqdm(video_urls, desc='Processing videos'):\n",
    "        video_id = video_url.split(\"watch?v=\")[1]\n",
    "        transcript_text = \"\"\n",
    "\n",
    "        # List of English language codes in the order they should be tried\n",
    "        languages = [\"en-GB\", \"en-US\", \"en\"]\n",
    "        for language in languages:\n",
    "            try:\n",
    "                transcript = YouTubeTranscriptApi.get_transcript(video_id, languages=[language])\n",
    "                for text in transcript:\n",
    "                    transcript_text += ' ' + text['text']\n",
    "                break\n",
    "            except NoTranscriptFound:\n",
    "                continue\n",
    "        if transcript_text == \"\":\n",
    "            # If no transcript could be found in any language, append a failure message to the transcripts list\n",
    "            transcripts.append(f\"No English transcript found for video: {video_url}\")\n",
    "            failed_videos.append(video_url)\n",
    "        else:\n",
    "            transcripts.append(transcript_text)\n",
    "    \n",
    "    print(\"Failed videos: \", failed_videos)\n",
    "    return transcripts"
   ]
  },
  {
   "cell_type": "code",
   "execution_count": 37,
   "metadata": {},
   "outputs": [
    {
     "name": "stdout",
     "output_type": "stream",
     "text": [
      "Failed videos:  []\n"
     ]
    }
   ],
   "source": [
    "# Usage\n",
    "transcripts = get_transcripts(playlist)"
   ]
  },
  {
   "cell_type": "code",
   "execution_count": 40,
   "metadata": {},
   "outputs": [
    {
     "data": {
      "text/plain": [
       "' The Sims is a digital dollhouse,\\xa0\\nfilled with little computer people. And it\\'s your job to keep\\xa0\\nthem alive, keep them happy,\\xa0\\xa0 and keep their house furnished\\xa0\\nwith ever more expensive trinkets. But micromanaging the needs and desires of\\xa0\\nan entire family can get pretty tedious. So the developers at Maxis soon realised that\\xa0\\xa0 they\\'d need to give these guys\\xa0\\na certain amount of autonomy. Free will. The power to think for themselves, if\\xa0\\nthe player stops giving direct commands. Which is actually... a pretty complicated task! These characters\\xa0\\nneed to read as believable humans. And they need to be able to adapt to any\\xa0\\npossible house you build around them,\\xa0\\xa0 or any social situation they find themselves in. And - crucially - they can\\'t be so smart that\\xa0\\nthe player can just sit back and do nothing. So how do you make a video game\\xa0\\nAI that can do all of that? Well,\\xa0that\\'s what I want to explore in this video. I\\'m going to break down the clever ways that Maxis\\xa0\\ndesigned autonomy in this four-game franchise - though with a focus on the original game,\\xa0\\xa0 and - let\\'s be honest - the\\xa0\\nbest one, which is The Sims 3. It\\'s not going to get too technical,\\xa0\\xa0 but there is a metric buttload of resources\\xa0\\nin the description if you want to dive deeper. With that out of the way, I\\'m Mark Brown,\\xa0\\xa0 this is Game Maker\\'s Toolkit,\\xa0\\nand here\\'s how The Sims... think. Okay - decision making in The Sims\\xa0\\nis all driven by a set of mental\\xa0\\xa0 and physical needs - dubbed \"motives\", by Maxis. In The Sims 1 that\\'s hunger,\\xa0\\nhygiene, fun, energy,\\xa0\\xa0 bladder, social, comfort, and room, or tidiness. They all go from negative 100 to positive 100,\\xa0\\xa0 and if you combine them all, you get\\xa0\\nthe Sim\\'s overall level of happiness. These meters are constantly ticking down -\\xa0\\neach decaying at slightly different rates,\\xa0\\xa0 and faster if the Sim is\\xa0\\nperforming a related action. The bladder meter drops more quickly\\xa0\\nwhen the Sim is eating, for instance. Maxis carefully tuned all of these\\xa0\\nrates to hopefully match a normal\\xa0\\xa0 human schedule - like needing eight\\xa0\\nhours of sleep, and three meals a day. So. If the player doesn\\'t give the Sim\\xa0\\na command, it will decide what to do by\\xa0\\xa0 itself - and that decision is driven\\xa0\\nby a desire to fulfil these motives. Now you might assume that a Sim\\xa0\\nknows how to meet its own needs: that a toilet will solve bladder,\\xa0\\nthat fridges and stoves solve hunger,\\xa0\\xa0 and books, TVs, and pinball tables solve fun. But it doesn\\'t work like that -\\xa0\\nit\\'s actually, the other way around. Instead, all of the objects in\\xa0\\nthe Sim\\'s house contain this data,\\xa0\\xa0 and will broadcast what they can offer. A bed will say \"sleep on me to get 10 energy\",\\xa0\\xa0 a toilet offers plus 20 to bladder if you\\xa0\\nuse it, or plus 5 to room if you clean it. And other Sims will offer themselves\\xa0\\nas a way to top up social points. Maxis calls these \"advertisements\". So. Whenever the Sim decides what to do,\\xa0\\xa0 it quickly makes a list of every object\\xa0\\nin the house - and what they can offer. The Sim can then take that advertised number\\xa0\\nand weigh it based on its current needs. It does this by applying a\\xa0\\nmultiplier to the promised score,\\xa0\\xa0 based on the Sim\\'s current motive levels. For example, if the Sim is well-rested,\\xa0\\nthe bed\\'s energy-boosting score is damped\\xa0\\xa0 down - but if the Sim is knackered, then\\xa0\\nthat same score is boosted dramatically. Now, the Sim can take the list of interactions,\\xa0\\nand their weighted scores, and rank them. At the top of the list is the interaction that\\xa0\\nwill give the most benefit to the Sim right now... and so the digital dude should do just that. This clever system was actually inspired by one\\xa0\\nof designer Will Wright\\'s previous games: SimAnt - a virtual ant colony where the critters would\\xa0\\nbe tempted to move by attractive pheromones. It\\'s basically the same idea\\xa0\\n- but instead of pheromones,\\xa0\\xa0 its TVs, fridges, pinball machines, and bath tubs. However - people aren\\'t ants. And so if this was implemented\\xa0\\nexactly as I just described,\\xa0\\xa0 it would lead to weird behaviours that make\\xa0\\nSims seem either robotic or irrational. So, many careful tweaks are\\xa0\\nneeded to make it work properly. For instance, not all needs are equal. If a Sim is both starving\\xa0\\nto death and utterly bored,\\xa0\\xa0 they should probably eat a\\xa0\\nsandwich rather than binge Netflix. But if the fridge and TV are\\xa0\\nboth offering the same reward... which should The Sim pick? Well, more rational behaviour can be achieved\\xa0\\nby defining unique curves for each motive. For hunger, we want a curve like this:\\xa0\\nnow, the fridge\\'s score will be reduced\\xa0\\xa0 to almost zero when the Sim is full, but will\\xa0\\nbe extremely high when the Sim is starving - making that more important than any other motive. Similar, smaller curves are used for the\\xa0\\nother physiological needs like bladder,\\xa0\\xa0 hygiene, and energy. However, less important needs like fun, social,\\xa0\\xa0 and comfort actually increase\\xa0\\nas the Sim becomes more happy. This was inspired by Maslow\\'s hierarchy\\xa0\\nof needs, which says humans will focus\\xa0\\xa0 on cognitive and social tasks only when their\\xa0\\nmore basic lizard-brain needs are met. Plus - while peeing will satiate your\\xa0\\nbladder, you can never have too much fun. We can also weigh the scores\\xa0\\nbased on other factors, too. For instance, each Sim has its own\\xa0\\npersonality - based on their score\\xa0\\xa0 in areas like niceness, neatness, and playfulness. So while a pinball machine and a bookcase\\xa0\\nmight advertise the same boost to fun,\\xa0\\xa0 a Sim will weigh this based\\xa0\\non their level of playfulness. Therefore, a more serious Sim\\xa0\\nwill choose to pick up a book. Plus, we can weigh the interaction based on its\\xa0\\xa0 distance from the Sim - which will\\xa0\\nmake nearby objects more tempting. Finally, some interactions can override everything\\xa0\\n- like a telephone call or a school bus. And other interactions can\\xa0\\nbe locked entirely - so,\\xa0\\xa0 certain objects won\\'t advertise themselves\\xa0\\nto kids, or adults, or a visiting guest. All of these factors combined\\xa0\\ngive us a much more useful score,\\xa0\\xa0 which has been adjusted to the different\\xa0\\nneeds, personality, and proximity of the Sim. And it\\'s from these scores that\\xa0\\nthe Sim\\'s next move is picked. But - perhaps most importantly of all - the\\xa0\\xa0 Sim doesn\\'t actually choose\\xa0\\nthe best option every time. Instead - the Sim picks one of the\\xa0\\ntop scoring interactions... at random. This stops the Sims from feeling\\xa0\\nrobotic and overly predictable,\\xa0\\xa0 and it also means they\\'re not able\\xa0\\nto fulfil all their needs perfectly. Which, you know, actually gives\\xa0\\nthe player something to do. What I\\'ve just described is a special type\\xa0\\nof AI called utility AI, or needs-based AI. This is a system where a character\\xa0\\nhas a predefined set of needs,\\xa0\\xa0 then looks around at its current options, and\\xa0\\npicks the one that will fulfil its needs best - the one with the most utility. And in The Sims, it means a little person can be\\xa0\\xa0 dropped into any house and will\\xa0\\nthen act in a lifelike manner: carefully attending to its\\xa0\\nhunger and energy when necessary,\\xa0\\xa0 but socialising and having fun when not. Plus, by putting the information\\xa0\\non the objects, instead of the Sim,\\xa0\\xa0 it\\'s really easy for Maxis to add\\xa0\\nhundreds of objects to the game - or make endless expansion packs -\\xa0\\nwithout touching the rest of the code. And so for these reasons, this basic system has\\xa0\\nbeen used in all four games in the franchise. But, Maxis wanted to take things even further when\\xa0\\nmaking the ambitious third game in the series. Okay, so, in The Sims 1, we saw how\\xa0\\neach Sim\\'s personality - like their\\xa0\\xa0 neatness and playfulness - would\\xa0\\nimpact their decision making. This would make each Sim feel somewhat distinct. But for The Sims 3 this idea\\xa0\\nwas expanded dramatically by\\xa0\\xa0 swapping the personality meters with traits. Things like neat, neurotic, heavy\\xa0\\nsleeper, and commitment issues. With five trait slots, and 60-odd\\xa0\\ntraits in the base game alone,\\xa0\\xa0 that\\'s about 5 million possible Sims -\\xa0\\neffectively making every character unique. Now these traits have many impacts on\\xa0\\nthe Sim - like, how a clumsy Sim will\\xa0\\xa0 trip themselves up while walking, and\\xa0\\na slob will fart and burp while idle. Sims also get bonus moodlets\\xa0\\nfor acting to their traits - and\\xa0\\xa0 there are certain interactions that are\\xa0\\nexclusive to Sims with certain traits: like how a computer whizz can\\xa0\\nmake cash through hacking. But these traits also impact\\xa0\\non the Sim\\'s decision making. This time, however, instead of weighing\\xa0\\nthe scores against the Sim\\'s personality,\\xa0\\xa0 the Sims 3 actually just adds\\xa0\\nmore motives to the pile. So, in the code, every Sim has their\\xa0\\nusual basic needs, like hunger, energy,\\xa0\\xa0 and bladder - but also five more\\xa0\\nmotives related to their traits. Therefore a couch potato needs\\xa0\\nto sit on the sofa and watch TV,\\xa0\\xa0 just like how they need to pee, eat, and sleep. And then, in the same way that a fridge\\xa0\\nadvertises itself as a fix for hunger,\\xa0\\xa0 objects can advertise themselves as a\\xa0\\nfix for the Sim\\'s trait-related motives. For instance, interactions like scare a Sim,\\xa0\\nsteal candy from a child, smash a dollhouse,\\xa0\\xa0 and write a trolling comment on the computer\\xa0\\nare all advertised to Sims with the evil trait. This means that Sims are encouraged\\xa0\\nto enact their unique personalities\\xa0\\xa0 autonomously - while also juggling\\xa0\\ntheir standard, everyday needs. Now this idea - of adding additional motives to\\xa0\\xa0 a Sim - can also be used to\\xa0\\nsimulate social situations. For instance, if a Sim enters a gym they\\xa0\\nwill temporarily be given the additional\\xa0\\xa0 motive \"be in gym\" - which is satisfied by\\xa0\\nobjects like a workout bench or treadmill. When they leave, the motive is removed. Back at home, a Sim will be motivated to act as\\xa0\\xa0 a hospitable host for as long\\xa0\\nas they have guests around - meanwhile, the guests will be motivated to\\xa0\\nact in an way that\\'s socially acceptable. And in The Sims Medieval, a Sim\\xa0\\nis given work-related motives\\xa0\\xa0 while they\\'re on the clock, and\\xa0\\nthen loses them during breaks. However: these motives can\\xa0\\nalso be affected by traits. For example, if a Sim sits down to have a picnic,\\xa0\\xa0 then the Sim\\'s friends and family are motivated\\xa0\\nto join them - while strangers are discouraged. But a Sim with the \"inappropriate\"\\xa0\\ntrait will override this - and\\xa0\\xa0 they will in fact be motivated to\\xa0\\nsit with people they don\\'t know. Just to make them feel uncomfortable. All of this means that Sims will act naturally and\\xa0\\nbelievably in whatever location they end up in - but with a few Sims standing out as acting\\xa0\\nunusually, because of their unique personality. And this is all done by simply tweaking the Sim\\'s\\xa0\\xa0 motivations - rather than hand-scripting a\\xa0\\nbunch of specific rules and interactions. Though, that being said, sometimes\\xa0\\nyou do need more hard-coded rules. Take that house visit I mentioned. A visiting sim is indeed motivated\\xa0\\nto act in an appropriate way. But what happens if they stay for too long? Or if\\xa0\\xa0 the player steps in and makes\\xa0\\nthe Sim act inappropriately? Well, to make this work,\\xa0\\xa0 the house visit is overseen by a set\\xa0\\nof rules that dictate social norms. So if a Sim sleeps in the host\\'s\\xa0\\nbed or uses their computer, the ruleset\\xa0\\xa0 will instruct the host to warn the Sim, and\\xa0\\nthen kick them out if they go even further. Likewise, conversations need\\xa0\\nmore hands-on authoring to\\xa0\\xa0 reflect extremely specific pair-ups of\\xa0\\npeople, or super distinct social cues. For example, how should a Sim respond to\\xa0\\na joke if they are steaming mad at the\\xa0\\xa0 joke teller? Or if the other Sim has\\xa0\\nsaid the same joke 5 times in a row? This is done through a series of rules - with\\xa0\\nan input, a set of conditions, and the output. So for that joke I just mentioned... if the listener has the \\'good sense\\xa0\\nof humour\\' trait, they\\'ll laugh. If their long-term relationship\\xa0\\nis sour, they\\'ll be insulted. And if the Sim repeatedly tells\\xa0\\njokes, the listener will be bored. These so-called \"production rules\" are ranked in\\xa0\\norder of specificity, as defined by the designer,\\xa0\\xa0 and the top-scoring outcome\\xa0\\nis used to pick the response. Maxis ended up writing 1000s of hand-crafted rules\\xa0\\xa0 to determine the outcome of 100s\\xa0\\nof possible conversation topics. But, because the rules just go in a big\\xa0\\nstack and the most specific one is picked,\\xa0\\xa0 they can\\'t clash, break the game, cause an\\xa0\\ninfinite loop, or lead to any other issue. Just like with the objects, designers can\\xa0\\nsimply keep adding more and more to the pile. So far, I\\'ve been talking about individual Sims,\\xa0\\xa0 or small social situations\\xa0\\nlike a conversation or a party. But what about simulating an entire\\xa0\\ntown\\'s worth of little people? You see, in The Sims 3, your house\\xa0\\nexists in an open world neighbourhood\\xa0\\xa0 with dozens of other Sims, and features\\xa0\\nhomes, restaurants, a park, and so on. Maxis needed to invent new tools to\\xa0\\nmake all of this work - but, in truth,\\xa0\\xa0 the neighbourhood actually operates in\\xa0\\na similar way to the Sims themselves. That\\'s because the town\\xa0\\nalso has a bunch of motives,\\xa0\\xa0 and will make choices that\\xa0\\nwill help it fulfil its needs. For instance - it ideally wants to\\xa0\\nmaintain a 50/50 gender balance. So when a new Sim is added to the neighbourhood,\\xa0\\xa0 the probability of it being male or female\\xa0\\nis weighted by the current needs of the city. It also has a desired employment\\xa0\\nrate of about 80% - so it can force\\xa0\\xa0 background Sims to get hired or fired as seen fit. Basically - once a day, at midnight, the\\xa0\\ntown will check its own happiness level,\\xa0\\xa0 and take a few actions in\\xa0\\norder to satisfy its needs. The individual lots have\\xa0\\nmotives too - for instance,\\xa0\\xa0 the restaurant may wish to have roughly 8 people\\xa0\\neating outside, during lunch and dinner hours. To achieve this, the lot will temporarily give\\xa0\\xa0 the \"eat outside\" motive to a bunch of\\xa0\\nSims to tempt them to the restaurant. It can even narrow the focus to\\xa0\\nSims with certain traits - like\\xa0\\xa0 culinary - and discourage those\\xa0\\nwith other traits - like frugal. Now, these Sims that appear at the restaurant\\xa0\\nseem like fully autonomous characters. They have needs, they have families,\\xa0\\xa0 they may even have had a baby and\\xa0\\nchanged job since you last saw them. So are they are actually living out their\\xa0\\nown little simulated lives, just off camera? Well, not quite. The background Sims are actually\\xa0\\nsimulated at a very low level of detail. Each day, the system looks at each Sim,\\xa0\\xa0 and scores possible big life\\xa0\\nchanges that could happen to them - like getting a job, falling in love\\xa0\\nwith someone, or getting married. These are, of course, weighted using things like\\xa0\\ntraits, existing relationships, and career paths. Also, the designers created\\xa0\\ncharts for what a Sim\\'s needs\\xa0\\xa0 will likely look like throughout the day. If it\\'s just after lunch, for instance,\\xa0\\nthey\\'re probably not going to be very hungry. And so when a background Sim is\\xa0\\npromoted into being a foreground Sim,\\xa0\\xa0 because they\\'re in proximity to the player,\\xa0\\xa0 the system checks the time of day and\\xa0\\nsnaps all their motives to the chart. Clever stuff. So we\\'ve got tools to simulate characters,\\xa0\\xa0 conversations, house visits,\\xa0\\nrestaurants and entire towns. And when you have such clever tech, it\\'s\\xa0\\ntempting to simulate, well, everything. Take, for instance, the urinal rule. If you pee while standing up, you know the\\xa0\\ndeal: when picking a place to take a leak,\\xa0\\xa0 you should always try to maintain a\\xa0\\none urinal buffer from other people. It\\'s like an unwritten social rule. So Maxis added this rule to the game, as well... but, before the game launched, \\nthey took it out. That\\'s because when the Sim followed that\\xa0\\nrule it was just kind of predictable and dull. But if Sims picked toilets at random, it would\\xa0\\xa0 often lead to funny and memorable\\xa0\\nmoments of Sims acting awkwardly. You see, while The Sims might\\xa0\\nhave started life as a rather\\xa0\\xa0 nerdy simulation game - essentially\\xa0\\nSimCity, but at a much smaller scale - it quickly grew into something very different. In playtests for the original\\xa0\\ngame, Will Wright was surprised\\xa0\\xa0 that players would tell elaborate\\xa0\\nstories about their Sim families - embellishing details, reading into their\\xa0\\ndecisions, and playing up random moments. \"It was fascinating to me how readily people\\xa0\\nwould build a story around this,\" Wright says. To support this, Maxis added a\\xa0\\nlast-minute feature to the game:\\xa0\\xa0 the ability to take a screenshot, write a caption,\\xa0\\xa0 and create a simple comic book which could\\xa0\\nbe uploaded to EA\\'s website with a click. The feature was extremely popular,\\xa0\\nproving that for many people... The Sims was an avenue for storytelling. And that\\'s still true today - just search\\xa0\\nYouTube for The Sims to see what I mean. But supporting storytelling is a delicate\\xa0\\nbalance: the game needs to be specific enough\\xa0\\xa0 to create stories, but not so specific that\\xa0\\nthere\\'s no room for the player\\'s imagination. So the final piece of this AI puzzle... is knowing when to hold back. Knowing what NOT to simulate. Knowing when to make urinal choice\\xa0\\nrandom, rather than scripted. One way to do this is to\\xa0\\ncarefully employ ambiguity. Basically, to leave some things unsaid,\\xa0\\xa0 so players can make assumptions, and project\\xa0\\ntheir own head-canon on the events on screen. A good example of this is the Sim\\'s\\xa0\\niconic babbling dialect, known as Simlish. In early design documents we can see\\xa0\\nthat Maxis experimented with having\\xa0\\xa0 the Sims speak real world languages like\\xa0\\nEnglish, Navajo, Estonian, and Ukranian - but due to technical and logistical reasons,\\xa0\\xa0 they ended up hiring two improv comics\\xa0\\nto just make up absolute nonsense. Sim: Droba droba droba.\\nSeeka neeba huh.  But this actually works wonders - when the\\xa0\\nSims babble gobbledygook at each other,\\xa0\\xa0 the player can assume, fill in gaps,\\xa0\\xa0 project their own imagination on the\\xa0\\nSims, and make the game their own. \"If we used actual language, the game\\xa0\\nwould flatten and shrink, and everyone\\xa0\\xa0 would be having the same experience\",\\xa0\\nsays EA\\'s Matt Brown - no relation. Ambiguity can also make Sims feels smarter than\\xa0\\xa0 they actually are, and hide cases where\\xa0\\nthe simulation is doing something wrong. Another avenue is to always follow\\xa0\\nthe player\\'s lead - and never use\\xa0\\xa0 autonomy to go against the story\\xa0\\nthe player is trying to tell. That\\'s why Sims will use free will to\\xa0\\nrelieve their bladder and fill their stomach,\\xa0\\xa0 but won\\'t autonomously quit their\\xa0\\njob or try romancing a random Sim. Just like with the Nemesis\\xa0\\nSystem in Shadow of War,\\xa0\\xa0 Maxis took inspiration from the concept\\xa0\\n\"yes, and\", from improvisational comedy - so the Sims try to build on the player\\'s\\xa0\\nactions, and try not to negate them. For instance, if a player makes two\\xa0\\nSims fall in love - the autonomous\\xa0\\xa0 system shouldn\\'t make them break up again. Likewise, user-created Sims enter\\xa0\\nthe world with no sexual preference. But if you instruct a male Sim\\xa0\\nto, say, flirt with other dudes,\\xa0\\xa0 you\\'re suggesting that he should be bi\\xa0\\nor gay and the game will run with that. The game should always try to maintain\\xa0\\nthe consistency of the player\\'s story. So, The Sims has a fascinating AI system -\\xa0\\nwhich allows for realistic human simulations,\\xa0\\xa0 and creative player-led storytelling. And most of it is driven by a very simple concept. Characters, locations, and entire\\xa0\\nneighbourhoods are given a bunch of\\xa0\\xa0 needs - and then try to make choices\\xa0\\nthat will best fulfil those needs. With a little clever tuning, this leads to\\xa0\\ncharacters who feel believable, social situations\\xa0\\xa0 where Sims act appropriately, and entire\\xa0\\nneighbourhoods that stay consistent and balanced. But this is not just useful for\\xa0\\nrunning quirky goal-free life\\xa0\\xa0 simulations - and we can see utility AI\\xa0\\nbeing used in other types of games, too. For instance, in XCOM, an enemy unit will consider\\xa0\\nevery tile it can move to and score them based on\\xa0\\xa0 factors like distance, flanking opportunities,\\xa0\\nangle, cover bonus, visibility, and proximity - before moving to the tile with the best score. It can also be used in procedural generation, to\\xa0\\nbuild worlds that fit predetermined requirements. Utility AI is a fantastic addition\\xa0\\nto a game maker\\'s toolkit, and its\\xa0\\xa0 implementation in The Sims should serve as\\xa0\\nwonderful inspiration to game designers. And now, just to melt your brain,\\xa0\\nhere\\'s Katy Perry singing in Simlish. Katy Perry: [Absolute nonsense] Katy Perry: [Just complete gobbledegook] Katy Perry: [I think I\\'m having a stroke]'"
      ]
     },
     "execution_count": 40,
     "metadata": {},
     "output_type": "execute_result"
    }
   ],
   "source": [
    "# Verification\n",
    "transcripts[0]"
   ]
  },
  {
   "cell_type": "markdown",
   "metadata": {},
   "source": [
    "## 3. Create Prompts"
   ]
  },
  {
   "cell_type": "code",
   "execution_count": 76,
   "metadata": {},
   "outputs": [],
   "source": [
    "command = \"\"\"\n",
    "Write me a summary in bullet points in markdown.\n",
    "I don't want the summary to be just a plain wall of bullet points.\n",
    "I need you to use markdown elements like italics, bold, lists, etc. to make a nice readable experience.\n",
    "\n",
    "---\n",
    "\"\"\""
   ]
  },
  {
   "cell_type": "code",
   "execution_count": 42,
   "metadata": {},
   "outputs": [],
   "source": [
    "# Definition\n",
    "def prepend_cmd_to_transcripts(cmd, transcripts):\n",
    "    return [cmd + transcript for transcript in transcripts]"
   ]
  },
  {
   "cell_type": "code",
   "execution_count": 43,
   "metadata": {},
   "outputs": [],
   "source": [
    "# Usage\n",
    "transcripts_with_cmd = prepend_cmd_to_transcripts(command, transcripts)"
   ]
  },
  {
   "cell_type": "code",
   "execution_count": 44,
   "metadata": {},
   "outputs": [
    {
     "data": {
      "text/plain": [
       "'\\nWrite me a summary in bullet points in markdown.\\nI don\\'t want the summary to be just a plain wall of bullet points.\\nI need you to use markdown elements like italics, bold, lists, etc. to make a nice readable experience.\\n\\n---\\n The Sims is a digital dollhouse,\\xa0\\nfilled with little computer people. And it\\'s your job to keep\\xa0\\nthem alive, keep them happy,\\xa0\\xa0 and keep their house furnished\\xa0\\nwith ever more expensive trinkets. But micromanaging the needs and desires of\\xa0\\nan entire family can get pretty tedious. So the developers at Maxis soon realised that\\xa0\\xa0 they\\'d need to give these guys\\xa0\\na certain amount of autonomy. Free will. The power to think for themselves, if\\xa0\\nthe player stops giving direct commands. Which is actually... a pretty complicated task! These characters\\xa0\\nneed to read as believable humans. And they need to be able to adapt to any\\xa0\\npossible house you build around them,\\xa0\\xa0 or any social situation they find themselves in. And - crucially - they can\\'t be so smart that\\xa0\\nthe player can just sit back and do nothing. So how do you make a video game\\xa0\\nAI that can do all of that? Well,\\xa0that\\'s what I want to explore in this video. I\\'m going to break down the clever ways that Maxis\\xa0\\ndesigned autonomy in this four-game franchise - though with a focus on the original game,\\xa0\\xa0 and - let\\'s be honest - the\\xa0\\nbest one, which is The Sims 3. It\\'s not going to get too technical,\\xa0\\xa0 but there is a metric buttload of resources\\xa0\\nin the description if you want to dive deeper. With that out of the way, I\\'m Mark Brown,\\xa0\\xa0 this is Game Maker\\'s Toolkit,\\xa0\\nand here\\'s how The Sims... think. Okay - decision making in The Sims\\xa0\\nis all driven by a set of mental\\xa0\\xa0 and physical needs - dubbed \"motives\", by Maxis. In The Sims 1 that\\'s hunger,\\xa0\\nhygiene, fun, energy,\\xa0\\xa0 bladder, social, comfort, and room, or tidiness. They all go from negative 100 to positive 100,\\xa0\\xa0 and if you combine them all, you get\\xa0\\nthe Sim\\'s overall level of happiness. These meters are constantly ticking down -\\xa0\\neach decaying at slightly different rates,\\xa0\\xa0 and faster if the Sim is\\xa0\\nperforming a related action. The bladder meter drops more quickly\\xa0\\nwhen the Sim is eating, for instance. Maxis carefully tuned all of these\\xa0\\nrates to hopefully match a normal\\xa0\\xa0 human schedule - like needing eight\\xa0\\nhours of sleep, and three meals a day. So. If the player doesn\\'t give the Sim\\xa0\\na command, it will decide what to do by\\xa0\\xa0 itself - and that decision is driven\\xa0\\nby a desire to fulfil these motives. Now you might assume that a Sim\\xa0\\nknows how to meet its own needs: that a toilet will solve bladder,\\xa0\\nthat fridges and stoves solve hunger,\\xa0\\xa0 and books, TVs, and pinball tables solve fun. But it doesn\\'t work like that -\\xa0\\nit\\'s actually, the other way around. Instead, all of the objects in\\xa0\\nthe Sim\\'s house contain this data,\\xa0\\xa0 and will broadcast what they can offer. A bed will say \"sleep on me to get 10 energy\",\\xa0\\xa0 a toilet offers plus 20 to bladder if you\\xa0\\nuse it, or plus 5 to room if you clean it. And other Sims will offer themselves\\xa0\\nas a way to top up social points. Maxis calls these \"advertisements\". So. Whenever the Sim decides what to do,\\xa0\\xa0 it quickly makes a list of every object\\xa0\\nin the house - and what they can offer. The Sim can then take that advertised number\\xa0\\nand weigh it based on its current needs. It does this by applying a\\xa0\\nmultiplier to the promised score,\\xa0\\xa0 based on the Sim\\'s current motive levels. For example, if the Sim is well-rested,\\xa0\\nthe bed\\'s energy-boosting score is damped\\xa0\\xa0 down - but if the Sim is knackered, then\\xa0\\nthat same score is boosted dramatically. Now, the Sim can take the list of interactions,\\xa0\\nand their weighted scores, and rank them. At the top of the list is the interaction that\\xa0\\nwill give the most benefit to the Sim right now... and so the digital dude should do just that. This clever system was actually inspired by one\\xa0\\nof designer Will Wright\\'s previous games: SimAnt - a virtual ant colony where the critters would\\xa0\\nbe tempted to move by attractive pheromones. It\\'s basically the same idea\\xa0\\n- but instead of pheromones,\\xa0\\xa0 its TVs, fridges, pinball machines, and bath tubs. However - people aren\\'t ants. And so if this was implemented\\xa0\\nexactly as I just described,\\xa0\\xa0 it would lead to weird behaviours that make\\xa0\\nSims seem either robotic or irrational. So, many careful tweaks are\\xa0\\nneeded to make it work properly. For instance, not all needs are equal. If a Sim is both starving\\xa0\\nto death and utterly bored,\\xa0\\xa0 they should probably eat a\\xa0\\nsandwich rather than binge Netflix. But if the fridge and TV are\\xa0\\nboth offering the same reward... which should The Sim pick? Well, more rational behaviour can be achieved\\xa0\\nby defining unique curves for each motive. For hunger, we want a curve like this:\\xa0\\nnow, the fridge\\'s score will be reduced\\xa0\\xa0 to almost zero when the Sim is full, but will\\xa0\\nbe extremely high when the Sim is starving - making that more important than any other motive. Similar, smaller curves are used for the\\xa0\\nother physiological needs like bladder,\\xa0\\xa0 hygiene, and energy. However, less important needs like fun, social,\\xa0\\xa0 and comfort actually increase\\xa0\\nas the Sim becomes more happy. This was inspired by Maslow\\'s hierarchy\\xa0\\nof needs, which says humans will focus\\xa0\\xa0 on cognitive and social tasks only when their\\xa0\\nmore basic lizard-brain needs are met. Plus - while peeing will satiate your\\xa0\\nbladder, you can never have too much fun. We can also weigh the scores\\xa0\\nbased on other factors, too. For instance, each Sim has its own\\xa0\\npersonality - based on their score\\xa0\\xa0 in areas like niceness, neatness, and playfulness. So while a pinball machine and a bookcase\\xa0\\nmight advertise the same boost to fun,\\xa0\\xa0 a Sim will weigh this based\\xa0\\non their level of playfulness. Therefore, a more serious Sim\\xa0\\nwill choose to pick up a book. Plus, we can weigh the interaction based on its\\xa0\\xa0 distance from the Sim - which will\\xa0\\nmake nearby objects more tempting. Finally, some interactions can override everything\\xa0\\n- like a telephone call or a school bus. And other interactions can\\xa0\\nbe locked entirely - so,\\xa0\\xa0 certain objects won\\'t advertise themselves\\xa0\\nto kids, or adults, or a visiting guest. All of these factors combined\\xa0\\ngive us a much more useful score,\\xa0\\xa0 which has been adjusted to the different\\xa0\\nneeds, personality, and proximity of the Sim. And it\\'s from these scores that\\xa0\\nthe Sim\\'s next move is picked. But - perhaps most importantly of all - the\\xa0\\xa0 Sim doesn\\'t actually choose\\xa0\\nthe best option every time. Instead - the Sim picks one of the\\xa0\\ntop scoring interactions... at random. This stops the Sims from feeling\\xa0\\nrobotic and overly predictable,\\xa0\\xa0 and it also means they\\'re not able\\xa0\\nto fulfil all their needs perfectly. Which, you know, actually gives\\xa0\\nthe player something to do. What I\\'ve just described is a special type\\xa0\\nof AI called utility AI, or needs-based AI. This is a system where a character\\xa0\\nhas a predefined set of needs,\\xa0\\xa0 then looks around at its current options, and\\xa0\\npicks the one that will fulfil its needs best - the one with the most utility. And in The Sims, it means a little person can be\\xa0\\xa0 dropped into any house and will\\xa0\\nthen act in a lifelike manner: carefully attending to its\\xa0\\nhunger and energy when necessary,\\xa0\\xa0 but socialising and having fun when not. Plus, by putting the information\\xa0\\non the objects, instead of the Sim,\\xa0\\xa0 it\\'s really easy for Maxis to add\\xa0\\nhundreds of objects to the game - or make endless expansion packs -\\xa0\\nwithout touching the rest of the code. And so for these reasons, this basic system has\\xa0\\nbeen used in all four games in the franchise. But, Maxis wanted to take things even further when\\xa0\\nmaking the ambitious third game in the series. Okay, so, in The Sims 1, we saw how\\xa0\\neach Sim\\'s personality - like their\\xa0\\xa0 neatness and playfulness - would\\xa0\\nimpact their decision making. This would make each Sim feel somewhat distinct. But for The Sims 3 this idea\\xa0\\nwas expanded dramatically by\\xa0\\xa0 swapping the personality meters with traits. Things like neat, neurotic, heavy\\xa0\\nsleeper, and commitment issues. With five trait slots, and 60-odd\\xa0\\ntraits in the base game alone,\\xa0\\xa0 that\\'s about 5 million possible Sims -\\xa0\\neffectively making every character unique. Now these traits have many impacts on\\xa0\\nthe Sim - like, how a clumsy Sim will\\xa0\\xa0 trip themselves up while walking, and\\xa0\\na slob will fart and burp while idle. Sims also get bonus moodlets\\xa0\\nfor acting to their traits - and\\xa0\\xa0 there are certain interactions that are\\xa0\\nexclusive to Sims with certain traits: like how a computer whizz can\\xa0\\nmake cash through hacking. But these traits also impact\\xa0\\non the Sim\\'s decision making. This time, however, instead of weighing\\xa0\\nthe scores against the Sim\\'s personality,\\xa0\\xa0 the Sims 3 actually just adds\\xa0\\nmore motives to the pile. So, in the code, every Sim has their\\xa0\\nusual basic needs, like hunger, energy,\\xa0\\xa0 and bladder - but also five more\\xa0\\nmotives related to their traits. Therefore a couch potato needs\\xa0\\nto sit on the sofa and watch TV,\\xa0\\xa0 just like how they need to pee, eat, and sleep. And then, in the same way that a fridge\\xa0\\nadvertises itself as a fix for hunger,\\xa0\\xa0 objects can advertise themselves as a\\xa0\\nfix for the Sim\\'s trait-related motives. For instance, interactions like scare a Sim,\\xa0\\nsteal candy from a child, smash a dollhouse,\\xa0\\xa0 and write a trolling comment on the computer\\xa0\\nare all advertised to Sims with the evil trait. This means that Sims are encouraged\\xa0\\nto enact their unique personalities\\xa0\\xa0 autonomously - while also juggling\\xa0\\ntheir standard, everyday needs. Now this idea - of adding additional motives to\\xa0\\xa0 a Sim - can also be used to\\xa0\\nsimulate social situations. For instance, if a Sim enters a gym they\\xa0\\nwill temporarily be given the additional\\xa0\\xa0 motive \"be in gym\" - which is satisfied by\\xa0\\nobjects like a workout bench or treadmill. When they leave, the motive is removed. Back at home, a Sim will be motivated to act as\\xa0\\xa0 a hospitable host for as long\\xa0\\nas they have guests around - meanwhile, the guests will be motivated to\\xa0\\nact in an way that\\'s socially acceptable. And in The Sims Medieval, a Sim\\xa0\\nis given work-related motives\\xa0\\xa0 while they\\'re on the clock, and\\xa0\\nthen loses them during breaks. However: these motives can\\xa0\\nalso be affected by traits. For example, if a Sim sits down to have a picnic,\\xa0\\xa0 then the Sim\\'s friends and family are motivated\\xa0\\nto join them - while strangers are discouraged. But a Sim with the \"inappropriate\"\\xa0\\ntrait will override this - and\\xa0\\xa0 they will in fact be motivated to\\xa0\\nsit with people they don\\'t know. Just to make them feel uncomfortable. All of this means that Sims will act naturally and\\xa0\\nbelievably in whatever location they end up in - but with a few Sims standing out as acting\\xa0\\nunusually, because of their unique personality. And this is all done by simply tweaking the Sim\\'s\\xa0\\xa0 motivations - rather than hand-scripting a\\xa0\\nbunch of specific rules and interactions. Though, that being said, sometimes\\xa0\\nyou do need more hard-coded rules. Take that house visit I mentioned. A visiting sim is indeed motivated\\xa0\\nto act in an appropriate way. But what happens if they stay for too long? Or if\\xa0\\xa0 the player steps in and makes\\xa0\\nthe Sim act inappropriately? Well, to make this work,\\xa0\\xa0 the house visit is overseen by a set\\xa0\\nof rules that dictate social norms. So if a Sim sleeps in the host\\'s\\xa0\\nbed or uses their computer, the ruleset\\xa0\\xa0 will instruct the host to warn the Sim, and\\xa0\\nthen kick them out if they go even further. Likewise, conversations need\\xa0\\nmore hands-on authoring to\\xa0\\xa0 reflect extremely specific pair-ups of\\xa0\\npeople, or super distinct social cues. For example, how should a Sim respond to\\xa0\\na joke if they are steaming mad at the\\xa0\\xa0 joke teller? Or if the other Sim has\\xa0\\nsaid the same joke 5 times in a row? This is done through a series of rules - with\\xa0\\nan input, a set of conditions, and the output. So for that joke I just mentioned... if the listener has the \\'good sense\\xa0\\nof humour\\' trait, they\\'ll laugh. If their long-term relationship\\xa0\\nis sour, they\\'ll be insulted. And if the Sim repeatedly tells\\xa0\\njokes, the listener will be bored. These so-called \"production rules\" are ranked in\\xa0\\norder of specificity, as defined by the designer,\\xa0\\xa0 and the top-scoring outcome\\xa0\\nis used to pick the response. Maxis ended up writing 1000s of hand-crafted rules\\xa0\\xa0 to determine the outcome of 100s\\xa0\\nof possible conversation topics. But, because the rules just go in a big\\xa0\\nstack and the most specific one is picked,\\xa0\\xa0 they can\\'t clash, break the game, cause an\\xa0\\ninfinite loop, or lead to any other issue. Just like with the objects, designers can\\xa0\\nsimply keep adding more and more to the pile. So far, I\\'ve been talking about individual Sims,\\xa0\\xa0 or small social situations\\xa0\\nlike a conversation or a party. But what about simulating an entire\\xa0\\ntown\\'s worth of little people? You see, in The Sims 3, your house\\xa0\\nexists in an open world neighbourhood\\xa0\\xa0 with dozens of other Sims, and features\\xa0\\nhomes, restaurants, a park, and so on. Maxis needed to invent new tools to\\xa0\\nmake all of this work - but, in truth,\\xa0\\xa0 the neighbourhood actually operates in\\xa0\\na similar way to the Sims themselves. That\\'s because the town\\xa0\\nalso has a bunch of motives,\\xa0\\xa0 and will make choices that\\xa0\\nwill help it fulfil its needs. For instance - it ideally wants to\\xa0\\nmaintain a 50/50 gender balance. So when a new Sim is added to the neighbourhood,\\xa0\\xa0 the probability of it being male or female\\xa0\\nis weighted by the current needs of the city. It also has a desired employment\\xa0\\nrate of about 80% - so it can force\\xa0\\xa0 background Sims to get hired or fired as seen fit. Basically - once a day, at midnight, the\\xa0\\ntown will check its own happiness level,\\xa0\\xa0 and take a few actions in\\xa0\\norder to satisfy its needs. The individual lots have\\xa0\\nmotives too - for instance,\\xa0\\xa0 the restaurant may wish to have roughly 8 people\\xa0\\neating outside, during lunch and dinner hours. To achieve this, the lot will temporarily give\\xa0\\xa0 the \"eat outside\" motive to a bunch of\\xa0\\nSims to tempt them to the restaurant. It can even narrow the focus to\\xa0\\nSims with certain traits - like\\xa0\\xa0 culinary - and discourage those\\xa0\\nwith other traits - like frugal. Now, these Sims that appear at the restaurant\\xa0\\nseem like fully autonomous characters. They have needs, they have families,\\xa0\\xa0 they may even have had a baby and\\xa0\\nchanged job since you last saw them. So are they are actually living out their\\xa0\\nown little simulated lives, just off camera? Well, not quite. The background Sims are actually\\xa0\\nsimulated at a very low level of detail. Each day, the system looks at each Sim,\\xa0\\xa0 and scores possible big life\\xa0\\nchanges that could happen to them - like getting a job, falling in love\\xa0\\nwith someone, or getting married. These are, of course, weighted using things like\\xa0\\ntraits, existing relationships, and career paths. Also, the designers created\\xa0\\ncharts for what a Sim\\'s needs\\xa0\\xa0 will likely look like throughout the day. If it\\'s just after lunch, for instance,\\xa0\\nthey\\'re probably not going to be very hungry. And so when a background Sim is\\xa0\\npromoted into being a foreground Sim,\\xa0\\xa0 because they\\'re in proximity to the player,\\xa0\\xa0 the system checks the time of day and\\xa0\\nsnaps all their motives to the chart. Clever stuff. So we\\'ve got tools to simulate characters,\\xa0\\xa0 conversations, house visits,\\xa0\\nrestaurants and entire towns. And when you have such clever tech, it\\'s\\xa0\\ntempting to simulate, well, everything. Take, for instance, the urinal rule. If you pee while standing up, you know the\\xa0\\ndeal: when picking a place to take a leak,\\xa0\\xa0 you should always try to maintain a\\xa0\\none urinal buffer from other people. It\\'s like an unwritten social rule. So Maxis added this rule to the game, as well... but, before the game launched, \\nthey took it out. That\\'s because when the Sim followed that\\xa0\\nrule it was just kind of predictable and dull. But if Sims picked toilets at random, it would\\xa0\\xa0 often lead to funny and memorable\\xa0\\nmoments of Sims acting awkwardly. You see, while The Sims might\\xa0\\nhave started life as a rather\\xa0\\xa0 nerdy simulation game - essentially\\xa0\\nSimCity, but at a much smaller scale - it quickly grew into something very different. In playtests for the original\\xa0\\ngame, Will Wright was surprised\\xa0\\xa0 that players would tell elaborate\\xa0\\nstories about their Sim families - embellishing details, reading into their\\xa0\\ndecisions, and playing up random moments. \"It was fascinating to me how readily people\\xa0\\nwould build a story around this,\" Wright says. To support this, Maxis added a\\xa0\\nlast-minute feature to the game:\\xa0\\xa0 the ability to take a screenshot, write a caption,\\xa0\\xa0 and create a simple comic book which could\\xa0\\nbe uploaded to EA\\'s website with a click. The feature was extremely popular,\\xa0\\nproving that for many people... The Sims was an avenue for storytelling. And that\\'s still true today - just search\\xa0\\nYouTube for The Sims to see what I mean. But supporting storytelling is a delicate\\xa0\\nbalance: the game needs to be specific enough\\xa0\\xa0 to create stories, but not so specific that\\xa0\\nthere\\'s no room for the player\\'s imagination. So the final piece of this AI puzzle... is knowing when to hold back. Knowing what NOT to simulate. Knowing when to make urinal choice\\xa0\\nrandom, rather than scripted. One way to do this is to\\xa0\\ncarefully employ ambiguity. Basically, to leave some things unsaid,\\xa0\\xa0 so players can make assumptions, and project\\xa0\\ntheir own head-canon on the events on screen. A good example of this is the Sim\\'s\\xa0\\niconic babbling dialect, known as Simlish. In early design documents we can see\\xa0\\nthat Maxis experimented with having\\xa0\\xa0 the Sims speak real world languages like\\xa0\\nEnglish, Navajo, Estonian, and Ukranian - but due to technical and logistical reasons,\\xa0\\xa0 they ended up hiring two improv comics\\xa0\\nto just make up absolute nonsense. Sim: Droba droba droba.\\nSeeka neeba huh.  But this actually works wonders - when the\\xa0\\nSims babble gobbledygook at each other,\\xa0\\xa0 the player can assume, fill in gaps,\\xa0\\xa0 project their own imagination on the\\xa0\\nSims, and make the game their own. \"If we used actual language, the game\\xa0\\nwould flatten and shrink, and everyone\\xa0\\xa0 would be having the same experience\",\\xa0\\nsays EA\\'s Matt Brown - no relation. Ambiguity can also make Sims feels smarter than\\xa0\\xa0 they actually are, and hide cases where\\xa0\\nthe simulation is doing something wrong. Another avenue is to always follow\\xa0\\nthe player\\'s lead - and never use\\xa0\\xa0 autonomy to go against the story\\xa0\\nthe player is trying to tell. That\\'s why Sims will use free will to\\xa0\\nrelieve their bladder and fill their stomach,\\xa0\\xa0 but won\\'t autonomously quit their\\xa0\\njob or try romancing a random Sim. Just like with the Nemesis\\xa0\\nSystem in Shadow of War,\\xa0\\xa0 Maxis took inspiration from the concept\\xa0\\n\"yes, and\", from improvisational comedy - so the Sims try to build on the player\\'s\\xa0\\nactions, and try not to negate them. For instance, if a player makes two\\xa0\\nSims fall in love - the autonomous\\xa0\\xa0 system shouldn\\'t make them break up again. Likewise, user-created Sims enter\\xa0\\nthe world with no sexual preference. But if you instruct a male Sim\\xa0\\nto, say, flirt with other dudes,\\xa0\\xa0 you\\'re suggesting that he should be bi\\xa0\\nor gay and the game will run with that. The game should always try to maintain\\xa0\\nthe consistency of the player\\'s story. So, The Sims has a fascinating AI system -\\xa0\\nwhich allows for realistic human simulations,\\xa0\\xa0 and creative player-led storytelling. And most of it is driven by a very simple concept. Characters, locations, and entire\\xa0\\nneighbourhoods are given a bunch of\\xa0\\xa0 needs - and then try to make choices\\xa0\\nthat will best fulfil those needs. With a little clever tuning, this leads to\\xa0\\ncharacters who feel believable, social situations\\xa0\\xa0 where Sims act appropriately, and entire\\xa0\\nneighbourhoods that stay consistent and balanced. But this is not just useful for\\xa0\\nrunning quirky goal-free life\\xa0\\xa0 simulations - and we can see utility AI\\xa0\\nbeing used in other types of games, too. For instance, in XCOM, an enemy unit will consider\\xa0\\nevery tile it can move to and score them based on\\xa0\\xa0 factors like distance, flanking opportunities,\\xa0\\nangle, cover bonus, visibility, and proximity - before moving to the tile with the best score. It can also be used in procedural generation, to\\xa0\\nbuild worlds that fit predetermined requirements. Utility AI is a fantastic addition\\xa0\\nto a game maker\\'s toolkit, and its\\xa0\\xa0 implementation in The Sims should serve as\\xa0\\nwonderful inspiration to game designers. And now, just to melt your brain,\\xa0\\nhere\\'s Katy Perry singing in Simlish. Katy Perry: [Absolute nonsense] Katy Perry: [Just complete gobbledegook] Katy Perry: [I think I\\'m having a stroke]'"
      ]
     },
     "execution_count": 44,
     "metadata": {},
     "output_type": "execute_result"
    }
   ],
   "source": [
    "# Verification\n",
    "transcripts_with_cmd[0]"
   ]
  },
  {
   "cell_type": "markdown",
   "metadata": {},
   "source": [
    "## 4. Token Count"
   ]
  },
  {
   "cell_type": "markdown",
   "metadata": {},
   "source": [
    "In the next step we process each prompt.\n",
    "\n",
    "We now need to make sure that every prompt is within the limit of the model we choose."
   ]
  },
  {
   "cell_type": "code",
   "execution_count": 70,
   "metadata": {},
   "outputs": [],
   "source": [
    "def count_tokens(text):\n",
    "    tokenizer = GPT2Tokenizer.from_pretrained('gpt2')\n",
    "    return len(tokenizer.encode(text, max_length=1_000_000, truncation=True))"
   ]
  },
  {
   "cell_type": "code",
   "execution_count": 71,
   "metadata": {},
   "outputs": [],
   "source": [
    "def check_prompts(prompts):\n",
    "    model_limits = {\n",
    "        \"gpt-3.5-turbo\": 4096,\n",
    "        \"gpt-3.5-turbo-16k\": 16384,\n",
    "        \"gpt-4\": 8192,\n",
    "        \"gpt-4-32k\": 32768\n",
    "    }\n",
    "    results = {}\n",
    "    for model in model_limits:\n",
    "        over_limit = 0\n",
    "        for prompt in tqdm(prompts, desc=f'Processing for model: {model}'):\n",
    "            if count_tokens(prompt) > model_limits[model]:\n",
    "                over_limit += 1\n",
    "        results[model] = over_limit\n",
    "    return results"
   ]
  },
  {
   "cell_type": "code",
   "execution_count": 69,
   "metadata": {},
   "outputs": [
    {
     "name": "stderr",
     "output_type": "stream",
     "text": [
      "Processing for model: gpt-3.5-turbo: 100%|██████████| 130/130 [00:28<00:00,  4.51it/s]\n",
      "Processing for model: gpt-3.5-turbo-16k: 100%|██████████| 130/130 [00:28<00:00,  4.59it/s]\n",
      "Processing for model: gpt-4: 100%|██████████| 130/130 [00:27<00:00,  4.64it/s]\n",
      "Processing for model: gpt-4-32k: 100%|██████████| 130/130 [00:28<00:00,  4.57it/s]"
     ]
    },
    {
     "name": "stdout",
     "output_type": "stream",
     "text": [
      "For model 'gpt-3.5-turbo', there are 19 prompts over the token limit.\n",
      "For model 'gpt-3.5-turbo-16k', there are 0 prompts over the token limit.\n",
      "For model 'gpt-4', there are 1 prompts over the token limit.\n",
      "For model 'gpt-4-32k', there are 0 prompts over the token limit.\n"
     ]
    },
    {
     "name": "stderr",
     "output_type": "stream",
     "text": [
      "\n"
     ]
    }
   ],
   "source": [
    "# Usage\n",
    "results = check_prompts(transcripts_with_cmd)\n",
    "for model, count in results.items():\n",
    "    print(f\"For model '{model}', there are {count} prompts over the token limit.\")\n"
   ]
  },
  {
   "cell_type": "markdown",
   "metadata": {},
   "source": [
    "## 5. Pricing Estimate"
   ]
  },
  {
   "cell_type": "markdown",
   "metadata": {},
   "source": [
    "The following will output how much it would cost to input each prompt for each model. Output costs are seperate. To get a total approximate cost estimate, multiply by 2."
   ]
  },
  {
   "cell_type": "code",
   "execution_count": 72,
   "metadata": {},
   "outputs": [],
   "source": [
    "def calculate_cost(prompts):\n",
    "    model_pricing = {\n",
    "        \"gpt-3.5-turbo\": 0.0015,\n",
    "        \"gpt-3.5-turbo-16k\": 0.003,\n",
    "        \"gpt-4\": 0.03,\n",
    "        \"gpt-4-32k\": 0.06\n",
    "    }\n",
    "    total_cost = {}\n",
    "\n",
    "    for model in model_pricing:\n",
    "        cost = 0\n",
    "        for prompt in tqdm(prompts, desc=f'Calculating cost for model: {model}'):\n",
    "            token_count = count_tokens(prompt)\n",
    "            cost += token_count * model_pricing[model] / 1000 # cost per 1K tokens\n",
    "        total_cost[model] = round(cost, 2) # rounding to 2 decimal places for readability\n",
    "\n",
    "    return total_cost"
   ]
  },
  {
   "cell_type": "code",
   "execution_count": 74,
   "metadata": {},
   "outputs": [
    {
     "name": "stderr",
     "output_type": "stream",
     "text": [
      "Calculating cost for model: gpt-3.5-turbo: 100%|██████████| 130/130 [00:28<00:00,  4.62it/s]\n",
      "Calculating cost for model: gpt-3.5-turbo-16k: 100%|██████████| 130/130 [00:27<00:00,  4.71it/s]\n",
      "Calculating cost for model: gpt-4: 100%|██████████| 130/130 [00:29<00:00,  4.43it/s]\n",
      "Calculating cost for model: gpt-4-32k: 100%|██████████| 130/130 [00:29<00:00,  4.46it/s]"
     ]
    },
    {
     "name": "stdout",
     "output_type": "stream",
     "text": [
      "For model 'gpt-3.5-turbo', it would cost approximately $0.57 to process all prompts.\n",
      "For model 'gpt-3.5-turbo-16k', it would cost approximately $1.15 to process all prompts.\n",
      "For model 'gpt-4', it would cost approximately $11.49 to process all prompts.\n",
      "For model 'gpt-4-32k', it would cost approximately $22.99 to process all prompts.\n"
     ]
    },
    {
     "name": "stderr",
     "output_type": "stream",
     "text": [
      "\n"
     ]
    }
   ],
   "source": [
    "costs = calculate_cost(transcripts_with_cmd)\n",
    "\n",
    "for model, cost in costs.items():\n",
    "    print(f\"For model '{model}', it would cost approximately ${cost} to process all prompts.\")"
   ]
  },
  {
   "cell_type": "markdown",
   "metadata": {},
   "source": [
    "## 6. Ask GPT-4"
   ]
  },
  {
   "cell_type": "code",
   "execution_count": 90,
   "metadata": {},
   "outputs": [],
   "source": [
    "def ask_gpt(prompts):\n",
    "    responses = []\n",
    "    for i, prompt in enumerate(tqdm(prompts, desc='Processing prompts')):\n",
    "        try:\n",
    "            response = openai.ChatCompletion.create(\n",
    "                model = \"gpt-4\",\n",
    "                messages=[\n",
    "                        {\"role\": \"system\", \"content\": \"You are a helpful assistant.\"},\n",
    "                        {\"role\": \"user\", \"content\": prompt}\n",
    "                    ]\n",
    "            )\n",
    "            responses.append(response['choices'][0]['message']['content'])\n",
    "            \n",
    "            # save each response to a new text file\n",
    "            with open(f\"response_{i}.txt\", \"w\") as f:\n",
    "                f.write(response['choices'][0]['message']['content'])\n",
    "\n",
    "        except Exception as e:\n",
    "            print(f\"Error with prompt {i}: {e}\")\n",
    "            responses.append(None)\n",
    "            \n",
    "    return responses"
   ]
  },
  {
   "cell_type": "code",
   "execution_count": 102,
   "metadata": {},
   "outputs": [],
   "source": [
    "# BEWARE, EXECUTING THE FOLLOWING CELL COSTS MONEY\n",
    "# Usage\n",
    "# responses = ask_gpt(transcripts_with_cmd)"
   ]
  },
  {
   "cell_type": "code",
   "execution_count": 99,
   "metadata": {},
   "outputs": [
    {
     "data": {
      "text/plain": [
       "\"# Summary - The AI of The Sims\\n\\n**Architecture**\\n\\n- Maxis' The Sims is a digital dollhouse powered by a complex AI system that gives Sims autonomy and free will to act believably human in any environment.\\n\\n**Mechanics**\\n\\n- Sims are driven by eight 'Motives' also called 'Need Systems', these include; Hunger, Hygiene, Fun, etc. These decay at different rates depending on the activities the characters are performing.\\n- Sims decision-making is driven by these 'needs'. They don't automatically know which actions fulfill these needs, instead, objects 'advertise' their capabilities to address certain needs.\\n- Based on their needs, Sims weigh the advertising scores of objects and perform interactions that yield the most benefits, but they don't pick the best options every time. This helps avoid repetitiveness.\\n\\n**Unique Features**\\n\\n- The Sims' AI was inspired by SimAnt's virtual ant colony, where ants move towards attractive pheromones.\\n- The game’s design maintains rational behavior by using unique curves for each motive so that Sims prioritize their needs logically.\\n- Factors like the Sims' personality, proximity to objects, life circumstances (e.g., social situations, phone calls) adjust the weighted needs, giving a better decision-making score.\\n- The introduction of additional motives or aspiration systems allows Sims to fulfill not just physiological needs but also simulate social situations.\\n  \\n**Autonomy & Personalities**\\n\\n- In Sims 3, five traits, e.g., '*neat*', '*neurotic*', etc., are added each having a significant impact on a Sim's decision-making and behavior.\\n- Sim's traits also impact their decision-making process for fulfilling needs. This is done by adding more motives related to their traits.\\n- Sim’s traits are also used to simulate social situations, e.g., when 'hosting a party' Sim assumes the additional motive to play host.\\n- Conversations have specific handcrafted rules called '*production rules*' to determine outcomes based on specific pair-ups or social cues.\\n\\n**Simulation Realism**\\n\\n- Open-world neighborhoods in Sims 3 are simulated based on certain motives of the town to maintain demographics balance and desired employment rates.\\n- Sims added to the neighborhood are determined by weighing the town's current needs.\\n- Background sims are simulated lightly, checking their significant life changes each day and adjusting to time-of-day charts when promoted into a foreground Sim.\\n\\n**Storytelling**\\n\\n- The Sims encourages storytelling by letting players assume and project their imagination based on the game events.\\n- Sims act as per the player's instruction and maintain consistency with the player's story helping players build narratives by employing ambiguity.\\n- In its design, Maxis uses the concept of improvisational comedy principle '**yes, and**' to allow players to influence the game’s progression.\""
      ]
     },
     "execution_count": 99,
     "metadata": {},
     "output_type": "execute_result"
    }
   ],
   "source": [
    "# Verification\n",
    "responses[0]"
   ]
  },
  {
   "cell_type": "markdown",
   "metadata": {},
   "source": [
    "## 7. Save As PDF"
   ]
  },
  {
   "cell_type": "markdown",
   "metadata": {},
   "source": [
    "Iterating through every text file and putting them in a pdf, rendered Markdown."
   ]
  },
  {
   "cell_type": "code",
   "execution_count": 101,
   "metadata": {},
   "outputs": [],
   "source": [
    "import os\n",
    "import markdown\n",
    "from weasyprint import HTML\n",
    "\n",
    "def markdown_to_html(markdown_text):\n",
    "    html = markdown.markdown(markdown_text)\n",
    "    return html\n",
    "\n",
    "def html_to_pdf(html, output_filename):\n",
    "    HTML(string=html).write_pdf(output_filename)\n",
    "\n",
    "# Get a list of all text files in the current directory\n",
    "files = [f for f in os.listdir() if f.endswith('.txt')]\n",
    "\n",
    "# Create a string to hold the final HTML\n",
    "html_string = ''\n",
    "\n",
    "# Convert each text file to HTML and append it to the string\n",
    "for file in files:\n",
    "    with open(file, 'r') as f:\n",
    "        markdown_text = f.read()\n",
    "        html_string += markdown_to_html(markdown_text)\n",
    "        # Adding a page break after each file content.\n",
    "        html_string += \"<div style='page-break-after: always;'></div>\"\n",
    "\n",
    "# Convert the final HTML string to a PDF\n",
    "html_to_pdf(html_string, 'output.pdf')"
   ]
  }
 ],
 "metadata": {
  "kernelspec": {
   "display_name": "Python 3",
   "language": "python",
   "name": "python3"
  },
  "language_info": {
   "codemirror_mode": {
    "name": "ipython",
    "version": 3
   },
   "file_extension": ".py",
   "mimetype": "text/x-python",
   "name": "python",
   "nbconvert_exporter": "python",
   "pygments_lexer": "ipython3",
   "version": "3.8.5"
  }
 },
 "nbformat": 4,
 "nbformat_minor": 4
}
